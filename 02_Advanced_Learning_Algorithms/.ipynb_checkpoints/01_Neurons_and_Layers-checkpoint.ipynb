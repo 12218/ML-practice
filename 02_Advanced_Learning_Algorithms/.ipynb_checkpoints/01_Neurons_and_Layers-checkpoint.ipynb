{
 "cells": [
  {
   "cell_type": "code",
   "execution_count": 1,
   "id": "3c17c145",
   "metadata": {},
   "outputs": [],
   "source": [
    "import numpy as np\n",
    "import matplotlib.pyplot as plt\n",
    "import tensorflow as tf\n",
    "from tensorflow.keras.layers import Dense, Input\n",
    "from tensorflow.keras import Sequential\n",
    "from tensorflow.keras.losses import MeanSquaredError, BinaryCrossentropy\n",
    "from tensorflow.keras.activations import sigmoid"
   ]
  },
  {
   "cell_type": "code",
   "execution_count": 3,
   "id": "34875efa",
   "metadata": {},
   "outputs": [],
   "source": [
    "X_train = np.array([[1.0], [2.0]], dtype=np.float32)\n",
    "Y_train = np.array([[300.0], [500.0]], dtype=np.float32)"
   ]
  },
  {
   "cell_type": "markdown",
   "id": "a458e04e",
   "metadata": {},
   "source": [
    "## 01 Regression Model\n",
    "\n",
    "If neuron network only has one unit or neuron, we can consider it as linear regression model.\n",
    "\n",
    "#### (a) Define a layer"
   ]
  },
  {
   "cell_type": "code",
   "execution_count": 11,
   "id": "bcf98826",
   "metadata": {},
   "outputs": [],
   "source": [
    "linear_layer = tf.keras.layers.Dense(units = 1, activation = 'linear')"
   ]
  },
  {
   "cell_type": "markdown",
   "id": "3ad03179",
   "metadata": {},
   "source": [
    "#### (b) Instantiate neuron network\n",
    "\n",
    "**The input to layer must be at least 2-D!!**"
   ]
  },
  {
   "cell_type": "code",
   "execution_count": 15,
   "id": "42c84ea9",
   "metadata": {},
   "outputs": [
    {
     "name": "stdout",
     "output_type": "stream",
     "text": [
      "[[1.]]\n",
      "tf.Tensor([[-0.26335502]], shape=(1, 1), dtype=float32)\n"
     ]
    }
   ],
   "source": [
    "a1 = linear_layer(X_train[0].reshape(1, 1))\n",
    "print(X_train[0].reshape(1, 1))\n",
    "print(a1)"
   ]
  },
  {
   "cell_type": "markdown",
   "id": "56e28086",
   "metadata": {},
   "source": [
    "The result is a tensor (another name for an array) with a shape of (1,1) or one entry.   \n",
    "Now let's look at the weights and bias. These weights are **randomly initialized** to small numbers and the bias defaults to being initialized to zero."
   ]
  },
  {
   "cell_type": "code",
   "execution_count": 14,
   "id": "35f14733",
   "metadata": {},
   "outputs": [
    {
     "name": "stdout",
     "output_type": "stream",
     "text": [
      "w = [[-0.26335502]], b=[0.]\n"
     ]
    }
   ],
   "source": [
    "w, b= linear_layer.get_weights()\n",
    "print(f\"w = {w}, b={b}\")"
   ]
  },
  {
   "cell_type": "markdown",
   "id": "b6cc4dbf",
   "metadata": {},
   "source": [
    "We also can set $w$ and $b$ by ourselves."
   ]
  },
  {
   "cell_type": "code",
   "execution_count": 17,
   "id": "f38b9e82",
   "metadata": {},
   "outputs": [
    {
     "name": "stdout",
     "output_type": "stream",
     "text": [
      "w = [[200.]], b=[100.]\n"
     ]
    }
   ],
   "source": [
    "set_w = np.array([[200]])\n",
    "set_b = np.array([100])\n",
    "linear_layer.set_weights([set_w, set_b])\n",
    "\n",
    "w, b= linear_layer.get_weights()\n",
    "print(f\"w = {w}, b={b}\")"
   ]
  },
  {
   "cell_type": "markdown",
   "id": "559496cc",
   "metadata": {},
   "source": [
    "#### (c) Make prediction by tensorflow"
   ]
  },
  {
   "cell_type": "code",
   "execution_count": 21,
   "id": "fdce1442",
   "metadata": {},
   "outputs": [
    {
     "name": "stdout",
     "output_type": "stream",
     "text": [
      "tf.Tensor(\n",
      "[[300.]\n",
      " [500.]], shape=(2, 1), dtype=float32)\n"
     ]
    }
   ],
   "source": [
    "prediction_tf = linear_layer(X_train)\n",
    "\n",
    "print(prediction_tf)"
   ]
  },
  {
   "cell_type": "markdown",
   "id": "7733c0c5",
   "metadata": {},
   "source": [
    "## 02 Neurons with sigmod activation"
   ]
  },
  {
   "cell_type": "code",
   "execution_count": 22,
   "id": "36ac5efc",
   "metadata": {},
   "outputs": [],
   "source": [
    "X_train = np.array([0., 1, 2, 3, 4, 5], dtype=np.float32).reshape(-1,1)  # 2-D Matrix\n",
    "Y_train = np.array([0,  0, 0, 1, 1, 1], dtype=np.float32).reshape(-1,1)  # 2-D Matrix"
   ]
  },
  {
   "cell_type": "markdown",
   "id": "0644f468",
   "metadata": {},
   "source": [
    "### (a) <span style=\"color: red\">Split data set</span>\n",
    "\n",
    "There are two methods can be used to split the data set by class:\n",
    "\n",
    "#### (a.1)"
   ]
  },
  {
   "cell_type": "code",
   "execution_count": 47,
   "id": "a14be249",
   "metadata": {},
   "outputs": [
    {
     "name": "stdout",
     "output_type": "stream",
     "text": [
      "[3. 4. 5.]\n",
      "[0. 1. 2.]\n"
     ]
    }
   ],
   "source": [
    "pos = Y_train == 1\n",
    "neg = Y_train == 0\n",
    "print(X_train[pos])\n",
    "print(X_train[neg])"
   ]
  },
  {
   "cell_type": "markdown",
   "id": "9230007b",
   "metadata": {},
   "source": [
    "#### (a.2)"
   ]
  },
  {
   "cell_type": "code",
   "execution_count": 48,
   "id": "4f831e4d",
   "metadata": {},
   "outputs": [
    {
     "name": "stdout",
     "output_type": "stream",
     "text": [
      "[3. 4. 5.]\n",
      "[0. 1. 2.]\n"
     ]
    }
   ],
   "source": [
    "print(X_train[np.where(Y_train == 1)])\n",
    "print(X_train[np.where(Y_train == 0)])"
   ]
  },
  {
   "cell_type": "code",
   "execution_count": 49,
   "id": "7e160665",
   "metadata": {},
   "outputs": [
    {
     "data": {
      "image/png": "[encoded data removed]",
      "text/plain": [
       "<Figure size 640x480 with 1 Axes>"
      ]
     },
     "metadata": {},
     "output_type": "display_data"
    }
   ],
   "source": [
    "plt.scatter(X_train[pos], Y_train[pos], label = 'y = 1', color = 'red', marker = 'x', s = 50)\n",
    "plt.scatter(X_train[neg], Y_train[neg], label = 'y = 0', color = 'blue', marker = 'o', s = 50)\n",
    "\n",
    "plt.xlabel('X_train')\n",
    "plt.ylabel('Y_train')\n",
    "plt.title('Data set')\n",
    "\n",
    "plt.legend()\n",
    "plt.show()"
   ]
  },
  {
   "cell_type": "markdown",
   "id": "75f72f38",
   "metadata": {},
   "source": [
    "### (b) Logistic Neuron\n",
    "\n",
    "We can use `Sequential` model to construct multi-layer neuron models.\n",
    "\n",
    "#### (b.1) Construct multi-layers"
   ]
  },
  {
   "cell_type": "code",
   "execution_count": 52,
   "id": "f8b540e1",
   "metadata": {},
   "outputs": [],
   "source": [
    "model = Sequential(\n",
    "    [\n",
    "        tf.keras.layers.Dense(units = 1, input_dim = 1, activation = 'sigmoid', name = 'Layer1')\n",
    "    ]\n",
    ")"
   ]
  },
  {
   "cell_type": "markdown",
   "id": "094075ce",
   "metadata": {},
   "source": [
    "`model.summary()` shows the layers and number of parameters in the model."
   ]
  },
  {
   "cell_type": "code",
   "execution_count": 53,
   "id": "93913fcf",
   "metadata": {},
   "outputs": [
    {
     "name": "stdout",
     "output_type": "stream",
     "text": [
      "Model: \"sequential_2\"\n",
      "_________________________________________________________________\n",
      " Layer (type)                Output Shape              Param #   \n",
      "=================================================================\n",
      " Layer1 (Dense)              (None, 1)                 2         \n",
      "                                                                 \n",
      "=================================================================\n",
      "Total params: 2\n",
      "Trainable params: 2\n",
      "Non-trainable params: 0\n",
      "_________________________________________________________________\n"
     ]
    }
   ],
   "source": [
    "model.summary()"
   ]
  },
  {
   "cell_type": "markdown",
   "id": "a36db66e",
   "metadata": {},
   "source": [
    "#### (b.2) Get certain layer and set parameters"
   ]
  },
  {
   "cell_type": "code",
   "execution_count": 54,
   "id": "0d86c5f0",
   "metadata": {},
   "outputs": [
    {
     "name": "stdout",
     "output_type": "stream",
     "text": [
      "[[-0.6898675]] [0.]\n",
      "(1, 1) (1,)\n"
     ]
    }
   ],
   "source": [
    "# Get\n",
    "logistic_layer = model.get_layer('Layer1')\n",
    "w, b = logistic_layer.get_weights()\n",
    "print(w, b)\n",
    "print(w.shape,b.shape)"
   ]
  },
  {
   "cell_type": "code",
   "execution_count": 55,
   "id": "d31feeaa",
   "metadata": {},
   "outputs": [
    {
     "name": "stdout",
     "output_type": "stream",
     "text": [
      "[array([[2.]], dtype=float32), array([-4.5], dtype=float32)]\n"
     ]
    }
   ],
   "source": [
    "# Set\n",
    "set_w = np.array([[2]])\n",
    "set_b = np.array([-4.5])\n",
    "# set_weights takes a list of numpy arrays\n",
    "logistic_layer.set_weights([set_w, set_b])\n",
    "print(logistic_layer.get_weights())"
   ]
  },
  {
   "cell_type": "code",
   "execution_count": null,
   "id": "59bc578e",
   "metadata": {},
   "outputs": [],
   "source": []
  }
 ],
 "metadata": {
  "kernelspec": {
   "display_name": "Python 3 (ipykernel)",
   "language": "python",
   "name": "python3"
  },
  "language_info": {
   "codemirror_mode": {
    "name": "ipython",
    "version": 3
   },
   "file_extension": ".py",
   "mimetype": "text/x-python",
   "name": "python",
   "nbconvert_exporter": "python",
   "pygments_lexer": "ipython3",
   "version": "3.10.6"
  }
 },
 "nbformat": 4,
 "nbformat_minor": 5
}
