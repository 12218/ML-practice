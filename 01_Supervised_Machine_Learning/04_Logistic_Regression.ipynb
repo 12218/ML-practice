{
 "cells": [
  {
   "cell_type": "code",
   "execution_count": 1,
   "id": "6b8eb0d3",
   "metadata": {},
   "outputs": [],
   "source": [
    "import numpy as np\n",
    "import matplotlib.pyplot as plt"
   ]
  },
  {
   "cell_type": "markdown",
   "id": "42dba558",
   "metadata": {},
   "source": [
    "# I Logistic Regression"
   ]
  },
  {
   "cell_type": "markdown",
   "id": "5fc97c5c",
   "metadata": {},
   "source": [
    "## 01 Sigmod function (logistic function)\n",
    "\n",
    "### (a) Formula for sigmod function\n",
    "\n",
    "$g(z) = \\frac{1}{1+e^{-z}}\\tag{1}$\n",
    "\n",
    "In the case of logistic regression, z (the input to the sigmoid function), is the output of a linear regression model. "
   ]
  },
  {
   "cell_type": "code",
   "execution_count": 2,
   "id": "97f932d9",
   "metadata": {},
   "outputs": [],
   "source": [
    "def sigmod(z):\n",
    "    return 1 / (1 + np.exp(-z))"
   ]
  },
  {
   "cell_type": "markdown",
   "id": "bb00562a",
   "metadata": {},
   "source": [
    "**Test sigmod function**"
   ]
  },
  {
   "cell_type": "code",
   "execution_count": 3,
   "id": "5808b7f7",
   "metadata": {},
   "outputs": [
    {
     "data": {
      "image/png": "[encoded data removed]",
      "text/plain": [
       "<Figure size 640x480 with 1 Axes>"
      ]
     },
     "metadata": {},
     "output_type": "display_data"
    }
   ],
   "source": [
    "z_test = np.arange(-10, 11)\n",
    "plt.plot(z_test, sigmod(z_test), color = \"blue\", label = \"sigmod\")\n",
    "plt.legend()\n",
    "plt.show()"
   ]
  },
  {
   "cell_type": "markdown",
   "id": "51be325e",
   "metadata": {},
   "source": [
    "## 02 Logistic Regression Formula"
   ]
  },
  {
   "cell_type": "markdown",
   "id": "30f10e1a",
   "metadata": {},
   "source": [
    "### (a) Sigmod Function"
   ]
  },
  {
   "cell_type": "markdown",
   "id": "5ac6c384",
   "metadata": {},
   "source": [
    "A logistic regression model applies the sigmoid to the familiar linear regression model as shown below:\n",
    "\n",
    "$$ f_{\\mathbf{w},b}(\\mathbf{x}^{(i)}) = g(\\mathbf{w} \\cdot \\mathbf{x}^{(i)} + b ) \\tag{2} $$ \n",
    "\n",
    "  where\n",
    "\n",
    "  $g(z) = \\frac{1}{1+e^{-z}}\\tag{3}$\n",
    "  \n",
    "When $z$ is larger than 0, sigmod function of $z$ is larger than 0.5. Therefore, we can consider $z = 0$ as a **descision boundary**."
   ]
  },
  {
   "cell_type": "markdown",
   "id": "b393d271",
   "metadata": {},
   "source": [
    "### (b) Logistic Loss Function\n",
    "\n",
    "Logistic Regression uses a **loss function** more suited to the task of categorization where the target is 0 or 1 rather than any number. \n",
    "\n",
    ">**Loss** is a measure of the difference of a single example to its target value while the  \n",
    ">**Cost** is a measure of the losses over the training set\n",
    "\n",
    "This is defined: \n",
    "* $loss(f_{\\mathbf{w},b}(\\mathbf{x}^{(i)}), y^{(i)})$ is the cost for a single data point, which is:\n",
    "\n",
    "\\begin{equation}\n",
    "  loss(f_{\\mathbf{w},b}(\\mathbf{x}^{(i)}), y^{(i)}) = \\begin{cases}\n",
    "    - \\log\\left(f_{\\mathbf{w},b}\\left( \\mathbf{x}^{(i)} \\right) \\right) & \\text{if $y^{(i)}=1$}\\\\\n",
    "    \\log \\left( 1 - f_{\\mathbf{w},b}\\left( \\mathbf{x}^{(i)} \\right) \\right) & \\text{if $y^{(i)}=0$}\n",
    "  \\end{cases}\n",
    "\\end{equation}\n",
    "\n",
    "\n",
    "*  $f_{\\mathbf{w},b}(\\mathbf{x}^{(i)})$ is the model's prediction, while $y^{(i)}$ is the target value.\n",
    "\n",
    "*  $f_{\\mathbf{w},b}(\\mathbf{x}^{(i)}) = g(\\mathbf{w} \\cdot\\mathbf{x}^{(i)}+b)$ where function $g$ is the sigmoid function.\n",
    "\n",
    "The loss function above can be rewritten to be easier to implement.\n",
    "    $$loss(f_{\\mathbf{w},b}(\\mathbf{x}^{(i)}), y^{(i)}) = (-y^{(i)} \\log\\left(f_{\\mathbf{w},b}\\left( \\mathbf{x}^{(i)} \\right) \\right) - \\left( 1 - y^{(i)}\\right) \\log \\left( 1 - f_{\\mathbf{w},b}\\left( \\mathbf{x}^{(i)} \\right) \\right)$$"
   ]
  },
  {
   "cell_type": "code",
   "execution_count": 4,
   "id": "65103ec1",
   "metadata": {},
   "outputs": [],
   "source": [
    "def predict_y(w, b, x):\n",
    "#     return w * x + b\n",
    "    return np.dot(x, w) + b"
   ]
  },
  {
   "cell_type": "code",
   "execution_count": 5,
   "id": "048fd73c",
   "metadata": {},
   "outputs": [],
   "source": [
    "def compute_loss(w, b, x, y):\n",
    "    f_wb = sigmod(predict_y(w, b, x))\n",
    "    return (-y) * np.log(f_wb) - (1 - y) * np.log(1 - f_wb)"
   ]
  },
  {
   "cell_type": "markdown",
   "id": "926ac953",
   "metadata": {},
   "source": [
    "**Test compute_loss function**"
   ]
  },
  {
   "cell_type": "code",
   "execution_count": 6,
   "id": "8f5e5971",
   "metadata": {},
   "outputs": [],
   "source": [
    "X_train = np.array([[0.5, 1.5], [1,1], [1.5, 0.5], [3, 0.5], [2, 2], [1, 2.5]])  #(m,n)\n",
    "y_train = np.array([0, 0, 0, 1, 1, 1])                                           #(m,)\n",
    "\n",
    "w_tmp = np.array([1,1])\n",
    "b_tmp = -3"
   ]
  },
  {
   "cell_type": "code",
   "execution_count": 7,
   "id": "0cd840c1",
   "metadata": {},
   "outputs": [
    {
     "data": {
      "text/plain": [
       "array([0.31326169, 0.31326169, 0.31326169, 0.47407698, 0.31326169,\n",
       "       0.47407698])"
      ]
     },
     "execution_count": 7,
     "metadata": {},
     "output_type": "execute_result"
    }
   ],
   "source": [
    "compute_loss(w_tmp, b_tmp, X_train, y_train)"
   ]
  },
  {
   "cell_type": "markdown",
   "id": "d9ff6e9e",
   "metadata": {},
   "source": [
    "### (c) Logistic Cost Function\n",
    "\n",
    "Here combines the losses to form the cost:\n",
    "\n",
    "$$ J(\\mathbf{w},b) = \\frac{1}{m} \\sum_{i=0}^{m-1} \\left[ loss(f_{\\mathbf{w},b}(\\mathbf{x}^{(i)}), y^{(i)}) \\right]$$"
   ]
  },
  {
   "cell_type": "code",
   "execution_count": 8,
   "id": "c4fb2b83",
   "metadata": {},
   "outputs": [],
   "source": [
    "def compute_cost(w, b, x, y):\n",
    "    return np.sum(compute_loss(w, b, x, y)) / x.shape[0]"
   ]
  },
  {
   "cell_type": "markdown",
   "id": "9624fa6b",
   "metadata": {},
   "source": [
    "**Test cost function**"
   ]
  },
  {
   "cell_type": "code",
   "execution_count": 9,
   "id": "6e7de71b",
   "metadata": {},
   "outputs": [],
   "source": [
    "X_train = np.array([[0.5, 1.5], [1,1], [1.5, 0.5], [3, 0.5], [2, 2], [1, 2.5]])  #(m,n)\n",
    "y_train = np.array([0, 0, 0, 1, 1, 1])                                           #(m,)\n",
    "\n",
    "w_tmp = np.array([1,1])\n",
    "b_tmp = -3"
   ]
  },
  {
   "cell_type": "code",
   "execution_count": 10,
   "id": "0de5cbe2",
   "metadata": {},
   "outputs": [
    {
     "data": {
      "text/plain": [
       "0.36686678640551745"
      ]
     },
     "execution_count": 10,
     "metadata": {},
     "output_type": "execute_result"
    }
   ],
   "source": [
    "compute_cost(w_tmp, b_tmp, X_train, y_train)"
   ]
  },
  {
   "cell_type": "markdown",
   "id": "b8ae902d",
   "metadata": {},
   "source": [
    "### (d) Logistic Gradient Descent\n",
    "\n",
    "#### (d.1) Compute  $\\frac{\\partial (w, b)}{\\partial w}$, $\\frac{\\partial (w, b)}{\\partial b}$\n",
    "\n",
    "Notice that when computing gradient descent for logistic regression, $f_{w,b}(x)$ is different from linear regression!"
   ]
  },
  {
   "cell_type": "code",
   "execution_count": 11,
   "id": "2b10a454",
   "metadata": {},
   "outputs": [],
   "source": [
    "def compute_gradient_logistic(w, b, x, y):\n",
    "    dj_dw = 0\n",
    "    for i in range(X_train.shape[0]):\n",
    "        f_wb_i = sigmod(predict_y(w, b, x[i]))\n",
    "        dj_dw_i = (f_wb_i - y[i]) * x[i] / x.shape[0]\n",
    "        dj_dw += dj_dw_i\n",
    "        \n",
    "    dj_db = np.sum(sigmod(predict_y(w, b, x)) - y) / x.shape[0]\n",
    "    \n",
    "    return dj_dw, dj_db"
   ]
  },
  {
   "cell_type": "markdown",
   "id": "2047e221",
   "metadata": {},
   "source": [
    "**Test gradient descent computation function**"
   ]
  },
  {
   "cell_type": "code",
   "execution_count": 12,
   "id": "d41e0a15",
   "metadata": {},
   "outputs": [
    {
     "data": {
      "text/plain": [
       "(array([0.49833339, 0.49883943]), 0.49861806546328574)"
      ]
     },
     "execution_count": 12,
     "metadata": {},
     "output_type": "execute_result"
    }
   ],
   "source": [
    "X_tmp = np.array([[0.5, 1.5], [1,1], [1.5, 0.5], [3, 0.5], [2, 2], [1, 2.5]])\n",
    "y_tmp = np.array([0, 0, 0, 1, 1, 1])\n",
    "w_tmp = np.array([2.,3.])\n",
    "b_tmp = 1.\n",
    "compute_gradient_logistic(w_tmp, b_tmp, X_tmp, y_tmp)"
   ]
  },
  {
   "cell_type": "markdown",
   "id": "ef0d0664",
   "metadata": {},
   "source": [
    "#### (d.2) Gradient Descent"
   ]
  },
  {
   "cell_type": "code",
   "execution_count": 13,
   "id": "3a1916bc",
   "metadata": {},
   "outputs": [],
   "source": [
    "def gradient_descent(w, b, x, y, alpha, num_iters):\n",
    "    j_history = [] # history values of cost function\n",
    "    w_history = [] # history values of w\n",
    "    b_history = [] # history values of b\n",
    "    for i in range(num_iters):\n",
    "        dj_dw, dj_db = compute_gradient_logistic(w, b, x, y)\n",
    "        w = w - alpha * dj_dw\n",
    "        b = b - alpha * dj_db\n",
    "        cost_n = compute_cost(w, b, x, y)\n",
    "        \n",
    "        if (i < 100000):\n",
    "            j_history.append(cost_n)\n",
    "            w_history.append(w)\n",
    "            b_history.append(b)\n",
    "            \n",
    "        if (i % 1000 == 0):\n",
    "            print(f\"Iteration {i:4}: Cost: {cost_n:0.4e} - w: {w} - b: {b}\")\n",
    "    return w, b, j_history, w_history, b_history"
   ]
  },
  {
   "cell_type": "markdown",
   "id": "243a18a2",
   "metadata": {},
   "source": [
    "**Test logistic gradient descent**"
   ]
  },
  {
   "cell_type": "code",
   "execution_count": 14,
   "id": "0cc1f23b",
   "metadata": {},
   "outputs": [
    {
     "name": "stdout",
     "output_type": "stream",
     "text": [
      "Iteration    0: Cost: 6.8461e-01 - w: [0.025      0.01666667] - b: 0.0\n",
      "Iteration 1000: Cost: 1.5910e-01 - w: [2.30572624 2.07740353] - b: -5.9109933019066\n",
      "Iteration 2000: Cost: 8.4601e-02 - w: [3.15508984 2.94023038] - b: -8.311492289992747\n",
      "Iteration 3000: Cost: 5.7053e-02 - w: [3.68092411 3.47097047] - b: -9.782304238535811\n",
      "Iteration 4000: Cost: 4.2908e-02 - w: [4.06024975 3.8527842 ] - b: -10.838640780957707\n",
      "Iteration 5000: Cost: 3.4338e-02 - w: [4.35647898 4.15050189] - b: -11.66153788565381\n",
      "Iteration 6000: Cost: 2.8604e-02 - w: [4.59929949 4.39430614] - b: -12.334999960928219\n",
      "Iteration 7000: Cost: 2.4502e-02 - w: [4.80494417 4.6006459 ] - b: -12.904720255835343\n",
      "Iteration 8000: Cost: 2.1424e-02 - w: [4.98324047 4.77945746] - b: -13.398265876886166\n",
      "Iteration 9000: Cost: 1.9030e-02 - w: [5.14058319 4.93719618] - b: -13.833530467558626\n",
      "\n",
      "updated parameters: w:[5.28123029 5.07815608], b:-14.222409982019837\n"
     ]
    }
   ],
   "source": [
    "w_tmp  = np.zeros_like(X_train[0])\n",
    "b_tmp  = 0.\n",
    "alph = 0.1\n",
    "iters = 10000\n",
    "\n",
    "w_final, b_final, J_hist, w_hist, b_hist = gradient_descent(w_tmp, b_tmp, X_train, y_train, alph, iters)\n",
    "print(f\"\\nupdated parameters: w:{w_final}, b:{b_final}\")"
   ]
  },
  {
   "cell_type": "markdown",
   "id": "8007cfc0",
   "metadata": {},
   "source": [
    "### (e) Descision Boundary"
   ]
  },
  {
   "cell_type": "code",
   "execution_count": 25,
   "id": "919bf708",
   "metadata": {},
   "outputs": [
    {
     "data": {
      "image/png": "[encoded data removed]",
      "text/plain": [
       "<Figure size 640x480 with 1 Axes>"
      ]
     },
     "metadata": {},
     "output_type": "display_data"
    }
   ],
   "source": [
    "# Seperate X_tmp according to y_tmp\n",
    "c0 = X_tmp[np.where(y_tmp == 0)]\n",
    "c1 = X_tmp[np.where(y_tmp == 1)]\n",
    "\n",
    "# Get coordinations for classification 1\n",
    "xaxis_0 = c0[:, 0]\n",
    "yaxis_0 = c0[:, 1]\n",
    "\n",
    "# Get coordinations for classification 2\n",
    "xaxis_1 = c1[:, 0]\n",
    "yaxis_1 = c1[:, 1]\n",
    "\n",
    "# Draw instance points on the plot\n",
    "plt.scatter(xaxis_0, yaxis_0, color = 'blue', marker = 'o', label = 'Classification 0', linewidths = 3)\n",
    "plt.scatter(xaxis_1, yaxis_1, color = 'red', marker = 'x', label = 'Classification 1', linewidths = 3)\n",
    "\n",
    "# Draw descision boundary\n",
    "x = np.arange(0., 3.5, .5)\n",
    "y = (-b_final - w_final[1] * x) / w_final[0]\n",
    "plt.plot(x, y, color = 'green', linewidth = 3)\n",
    "\n",
    "plt.xlabel('X train')\n",
    "plt.ylabel('y train')\n",
    "\n",
    "plt.legend()\n",
    "plt.show()"
   ]
  },
  {
   "cell_type": "code",
   "execution_count": null,
   "id": "c45ab800",
   "metadata": {},
   "outputs": [],
   "source": []
  }
 ],
 "metadata": {
  "kernelspec": {
   "display_name": "Python 3 (ipykernel)",
   "language": "python",
   "name": "python3"
  },
  "language_info": {
   "codemirror_mode": {
    "name": "ipython",
    "version": 3
   },
   "file_extension": ".py",
   "mimetype": "text/x-python",
   "name": "python",
   "nbconvert_exporter": "python",
   "pygments_lexer": "ipython3",
   "version": "3.10.6"
  }
 },
 "nbformat": 4,
 "nbformat_minor": 5
}
